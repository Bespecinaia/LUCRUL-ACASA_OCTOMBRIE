{
 "cells": [
  {
   "cell_type": "code",
   "execution_count": 1,
   "id": "dfdd3216",
   "metadata": {},
   "outputs": [],
   "source": [
    "import numpy as np\n",
    "import pandas as pd\n",
    "import matplotlib.pyplot as plt\n",
    "import seaborn as sns"
   ]
  },
  {
   "cell_type": "code",
   "execution_count": 2,
   "id": "005e7192",
   "metadata": {},
   "outputs": [
    {
     "data": {
      "text/html": [
       "<div>\n",
       "<style scoped>\n",
       "    .dataframe tbody tr th:only-of-type {\n",
       "        vertical-align: middle;\n",
       "    }\n",
       "\n",
       "    .dataframe tbody tr th {\n",
       "        vertical-align: top;\n",
       "    }\n",
       "\n",
       "    .dataframe thead th {\n",
       "        text-align: right;\n",
       "    }\n",
       "</style>\n",
       "<table border=\"1\" class=\"dataframe\">\n",
       "  <thead>\n",
       "    <tr style=\"text-align: right;\">\n",
       "      <th></th>\n",
       "      <th>fixed acidity</th>\n",
       "      <th>volatile acidity</th>\n",
       "      <th>citric acid</th>\n",
       "      <th>residual sugar</th>\n",
       "      <th>chlorides</th>\n",
       "      <th>free sulfur dioxide</th>\n",
       "      <th>total sulfur dioxide</th>\n",
       "      <th>density</th>\n",
       "      <th>pH</th>\n",
       "      <th>sulphates</th>\n",
       "      <th>alcohol</th>\n",
       "      <th>quality</th>\n",
       "    </tr>\n",
       "  </thead>\n",
       "  <tbody>\n",
       "    <tr>\n",
       "      <th>0</th>\n",
       "      <td>7.4</td>\n",
       "      <td>0.700</td>\n",
       "      <td>0.00</td>\n",
       "      <td>1.9</td>\n",
       "      <td>0.076</td>\n",
       "      <td>11.0</td>\n",
       "      <td>34.0</td>\n",
       "      <td>0.99780</td>\n",
       "      <td>3.51</td>\n",
       "      <td>0.56</td>\n",
       "      <td>9.4</td>\n",
       "      <td>5</td>\n",
       "    </tr>\n",
       "    <tr>\n",
       "      <th>1</th>\n",
       "      <td>7.8</td>\n",
       "      <td>0.880</td>\n",
       "      <td>0.00</td>\n",
       "      <td>2.6</td>\n",
       "      <td>0.098</td>\n",
       "      <td>25.0</td>\n",
       "      <td>67.0</td>\n",
       "      <td>0.99680</td>\n",
       "      <td>3.20</td>\n",
       "      <td>0.68</td>\n",
       "      <td>9.8</td>\n",
       "      <td>5</td>\n",
       "    </tr>\n",
       "    <tr>\n",
       "      <th>2</th>\n",
       "      <td>7.8</td>\n",
       "      <td>0.760</td>\n",
       "      <td>0.04</td>\n",
       "      <td>2.3</td>\n",
       "      <td>0.092</td>\n",
       "      <td>15.0</td>\n",
       "      <td>54.0</td>\n",
       "      <td>0.99700</td>\n",
       "      <td>3.26</td>\n",
       "      <td>0.65</td>\n",
       "      <td>9.8</td>\n",
       "      <td>5</td>\n",
       "    </tr>\n",
       "    <tr>\n",
       "      <th>3</th>\n",
       "      <td>11.2</td>\n",
       "      <td>0.280</td>\n",
       "      <td>0.56</td>\n",
       "      <td>1.9</td>\n",
       "      <td>0.075</td>\n",
       "      <td>17.0</td>\n",
       "      <td>60.0</td>\n",
       "      <td>0.99800</td>\n",
       "      <td>3.16</td>\n",
       "      <td>0.58</td>\n",
       "      <td>9.8</td>\n",
       "      <td>6</td>\n",
       "    </tr>\n",
       "    <tr>\n",
       "      <th>4</th>\n",
       "      <td>7.4</td>\n",
       "      <td>0.700</td>\n",
       "      <td>0.00</td>\n",
       "      <td>1.9</td>\n",
       "      <td>0.076</td>\n",
       "      <td>11.0</td>\n",
       "      <td>34.0</td>\n",
       "      <td>0.99780</td>\n",
       "      <td>3.51</td>\n",
       "      <td>0.56</td>\n",
       "      <td>9.4</td>\n",
       "      <td>5</td>\n",
       "    </tr>\n",
       "    <tr>\n",
       "      <th>...</th>\n",
       "      <td>...</td>\n",
       "      <td>...</td>\n",
       "      <td>...</td>\n",
       "      <td>...</td>\n",
       "      <td>...</td>\n",
       "      <td>...</td>\n",
       "      <td>...</td>\n",
       "      <td>...</td>\n",
       "      <td>...</td>\n",
       "      <td>...</td>\n",
       "      <td>...</td>\n",
       "      <td>...</td>\n",
       "    </tr>\n",
       "    <tr>\n",
       "      <th>1594</th>\n",
       "      <td>6.2</td>\n",
       "      <td>0.600</td>\n",
       "      <td>0.08</td>\n",
       "      <td>2.0</td>\n",
       "      <td>0.090</td>\n",
       "      <td>32.0</td>\n",
       "      <td>44.0</td>\n",
       "      <td>0.99490</td>\n",
       "      <td>3.45</td>\n",
       "      <td>0.58</td>\n",
       "      <td>10.5</td>\n",
       "      <td>5</td>\n",
       "    </tr>\n",
       "    <tr>\n",
       "      <th>1595</th>\n",
       "      <td>5.9</td>\n",
       "      <td>0.550</td>\n",
       "      <td>0.10</td>\n",
       "      <td>2.2</td>\n",
       "      <td>0.062</td>\n",
       "      <td>39.0</td>\n",
       "      <td>51.0</td>\n",
       "      <td>0.99512</td>\n",
       "      <td>3.52</td>\n",
       "      <td>0.76</td>\n",
       "      <td>11.2</td>\n",
       "      <td>6</td>\n",
       "    </tr>\n",
       "    <tr>\n",
       "      <th>1596</th>\n",
       "      <td>6.3</td>\n",
       "      <td>0.510</td>\n",
       "      <td>0.13</td>\n",
       "      <td>2.3</td>\n",
       "      <td>0.076</td>\n",
       "      <td>29.0</td>\n",
       "      <td>40.0</td>\n",
       "      <td>0.99574</td>\n",
       "      <td>3.42</td>\n",
       "      <td>0.75</td>\n",
       "      <td>11.0</td>\n",
       "      <td>6</td>\n",
       "    </tr>\n",
       "    <tr>\n",
       "      <th>1597</th>\n",
       "      <td>5.9</td>\n",
       "      <td>0.645</td>\n",
       "      <td>0.12</td>\n",
       "      <td>2.0</td>\n",
       "      <td>0.075</td>\n",
       "      <td>32.0</td>\n",
       "      <td>44.0</td>\n",
       "      <td>0.99547</td>\n",
       "      <td>3.57</td>\n",
       "      <td>0.71</td>\n",
       "      <td>10.2</td>\n",
       "      <td>5</td>\n",
       "    </tr>\n",
       "    <tr>\n",
       "      <th>1598</th>\n",
       "      <td>6.0</td>\n",
       "      <td>0.310</td>\n",
       "      <td>0.47</td>\n",
       "      <td>3.6</td>\n",
       "      <td>0.067</td>\n",
       "      <td>18.0</td>\n",
       "      <td>42.0</td>\n",
       "      <td>0.99549</td>\n",
       "      <td>3.39</td>\n",
       "      <td>0.66</td>\n",
       "      <td>11.0</td>\n",
       "      <td>6</td>\n",
       "    </tr>\n",
       "  </tbody>\n",
       "</table>\n",
       "<p>1599 rows × 12 columns</p>\n",
       "</div>"
      ],
      "text/plain": [
       "      fixed acidity  volatile acidity  citric acid  residual sugar  chlorides  \\\n",
       "0               7.4             0.700         0.00             1.9      0.076   \n",
       "1               7.8             0.880         0.00             2.6      0.098   \n",
       "2               7.8             0.760         0.04             2.3      0.092   \n",
       "3              11.2             0.280         0.56             1.9      0.075   \n",
       "4               7.4             0.700         0.00             1.9      0.076   \n",
       "...             ...               ...          ...             ...        ...   \n",
       "1594            6.2             0.600         0.08             2.0      0.090   \n",
       "1595            5.9             0.550         0.10             2.2      0.062   \n",
       "1596            6.3             0.510         0.13             2.3      0.076   \n",
       "1597            5.9             0.645         0.12             2.0      0.075   \n",
       "1598            6.0             0.310         0.47             3.6      0.067   \n",
       "\n",
       "      free sulfur dioxide  total sulfur dioxide  density    pH  sulphates  \\\n",
       "0                    11.0                  34.0  0.99780  3.51       0.56   \n",
       "1                    25.0                  67.0  0.99680  3.20       0.68   \n",
       "2                    15.0                  54.0  0.99700  3.26       0.65   \n",
       "3                    17.0                  60.0  0.99800  3.16       0.58   \n",
       "4                    11.0                  34.0  0.99780  3.51       0.56   \n",
       "...                   ...                   ...      ...   ...        ...   \n",
       "1594                 32.0                  44.0  0.99490  3.45       0.58   \n",
       "1595                 39.0                  51.0  0.99512  3.52       0.76   \n",
       "1596                 29.0                  40.0  0.99574  3.42       0.75   \n",
       "1597                 32.0                  44.0  0.99547  3.57       0.71   \n",
       "1598                 18.0                  42.0  0.99549  3.39       0.66   \n",
       "\n",
       "      alcohol  quality  \n",
       "0         9.4        5  \n",
       "1         9.8        5  \n",
       "2         9.8        5  \n",
       "3         9.8        6  \n",
       "4         9.4        5  \n",
       "...       ...      ...  \n",
       "1594     10.5        5  \n",
       "1595     11.2        6  \n",
       "1596     11.0        6  \n",
       "1597     10.2        5  \n",
       "1598     11.0        6  \n",
       "\n",
       "[1599 rows x 12 columns]"
      ]
     },
     "execution_count": 2,
     "metadata": {},
     "output_type": "execute_result"
    }
   ],
   "source": [
    "df = pd.read_csv(\"winequality-red.csv\")\n",
    "df"
   ]
  },
  {
   "cell_type": "code",
   "execution_count": 3,
   "id": "f1ec7e43",
   "metadata": {},
   "outputs": [],
   "source": [
    "df = df.drop([\"citric acid\", \"volatile acidity\", \"chlorides\", \"density\"], axis=1)"
   ]
  },
  {
   "cell_type": "code",
   "execution_count": 4,
   "id": "d7091fd9",
   "metadata": {},
   "outputs": [
    {
     "data": {
      "text/html": [
       "<div>\n",
       "<style scoped>\n",
       "    .dataframe tbody tr th:only-of-type {\n",
       "        vertical-align: middle;\n",
       "    }\n",
       "\n",
       "    .dataframe tbody tr th {\n",
       "        vertical-align: top;\n",
       "    }\n",
       "\n",
       "    .dataframe thead th {\n",
       "        text-align: right;\n",
       "    }\n",
       "</style>\n",
       "<table border=\"1\" class=\"dataframe\">\n",
       "  <thead>\n",
       "    <tr style=\"text-align: right;\">\n",
       "      <th></th>\n",
       "      <th>fixed acidity</th>\n",
       "      <th>residual sugar</th>\n",
       "      <th>free sulfur dioxide</th>\n",
       "      <th>total sulfur dioxide</th>\n",
       "      <th>pH</th>\n",
       "      <th>sulphates</th>\n",
       "      <th>alcohol</th>\n",
       "      <th>quality</th>\n",
       "    </tr>\n",
       "  </thead>\n",
       "  <tbody>\n",
       "    <tr>\n",
       "      <th>0</th>\n",
       "      <td>7.4</td>\n",
       "      <td>1.9</td>\n",
       "      <td>11.0</td>\n",
       "      <td>34.0</td>\n",
       "      <td>3.51</td>\n",
       "      <td>0.56</td>\n",
       "      <td>9.4</td>\n",
       "      <td>5</td>\n",
       "    </tr>\n",
       "    <tr>\n",
       "      <th>1</th>\n",
       "      <td>7.8</td>\n",
       "      <td>2.6</td>\n",
       "      <td>25.0</td>\n",
       "      <td>67.0</td>\n",
       "      <td>3.20</td>\n",
       "      <td>0.68</td>\n",
       "      <td>9.8</td>\n",
       "      <td>5</td>\n",
       "    </tr>\n",
       "    <tr>\n",
       "      <th>2</th>\n",
       "      <td>7.8</td>\n",
       "      <td>2.3</td>\n",
       "      <td>15.0</td>\n",
       "      <td>54.0</td>\n",
       "      <td>3.26</td>\n",
       "      <td>0.65</td>\n",
       "      <td>9.8</td>\n",
       "      <td>5</td>\n",
       "    </tr>\n",
       "    <tr>\n",
       "      <th>3</th>\n",
       "      <td>11.2</td>\n",
       "      <td>1.9</td>\n",
       "      <td>17.0</td>\n",
       "      <td>60.0</td>\n",
       "      <td>3.16</td>\n",
       "      <td>0.58</td>\n",
       "      <td>9.8</td>\n",
       "      <td>6</td>\n",
       "    </tr>\n",
       "    <tr>\n",
       "      <th>4</th>\n",
       "      <td>7.4</td>\n",
       "      <td>1.9</td>\n",
       "      <td>11.0</td>\n",
       "      <td>34.0</td>\n",
       "      <td>3.51</td>\n",
       "      <td>0.56</td>\n",
       "      <td>9.4</td>\n",
       "      <td>5</td>\n",
       "    </tr>\n",
       "    <tr>\n",
       "      <th>...</th>\n",
       "      <td>...</td>\n",
       "      <td>...</td>\n",
       "      <td>...</td>\n",
       "      <td>...</td>\n",
       "      <td>...</td>\n",
       "      <td>...</td>\n",
       "      <td>...</td>\n",
       "      <td>...</td>\n",
       "    </tr>\n",
       "    <tr>\n",
       "      <th>1594</th>\n",
       "      <td>6.2</td>\n",
       "      <td>2.0</td>\n",
       "      <td>32.0</td>\n",
       "      <td>44.0</td>\n",
       "      <td>3.45</td>\n",
       "      <td>0.58</td>\n",
       "      <td>10.5</td>\n",
       "      <td>5</td>\n",
       "    </tr>\n",
       "    <tr>\n",
       "      <th>1595</th>\n",
       "      <td>5.9</td>\n",
       "      <td>2.2</td>\n",
       "      <td>39.0</td>\n",
       "      <td>51.0</td>\n",
       "      <td>3.52</td>\n",
       "      <td>0.76</td>\n",
       "      <td>11.2</td>\n",
       "      <td>6</td>\n",
       "    </tr>\n",
       "    <tr>\n",
       "      <th>1596</th>\n",
       "      <td>6.3</td>\n",
       "      <td>2.3</td>\n",
       "      <td>29.0</td>\n",
       "      <td>40.0</td>\n",
       "      <td>3.42</td>\n",
       "      <td>0.75</td>\n",
       "      <td>11.0</td>\n",
       "      <td>6</td>\n",
       "    </tr>\n",
       "    <tr>\n",
       "      <th>1597</th>\n",
       "      <td>5.9</td>\n",
       "      <td>2.0</td>\n",
       "      <td>32.0</td>\n",
       "      <td>44.0</td>\n",
       "      <td>3.57</td>\n",
       "      <td>0.71</td>\n",
       "      <td>10.2</td>\n",
       "      <td>5</td>\n",
       "    </tr>\n",
       "    <tr>\n",
       "      <th>1598</th>\n",
       "      <td>6.0</td>\n",
       "      <td>3.6</td>\n",
       "      <td>18.0</td>\n",
       "      <td>42.0</td>\n",
       "      <td>3.39</td>\n",
       "      <td>0.66</td>\n",
       "      <td>11.0</td>\n",
       "      <td>6</td>\n",
       "    </tr>\n",
       "  </tbody>\n",
       "</table>\n",
       "<p>1599 rows × 8 columns</p>\n",
       "</div>"
      ],
      "text/plain": [
       "      fixed acidity  residual sugar  free sulfur dioxide  \\\n",
       "0               7.4             1.9                 11.0   \n",
       "1               7.8             2.6                 25.0   \n",
       "2               7.8             2.3                 15.0   \n",
       "3              11.2             1.9                 17.0   \n",
       "4               7.4             1.9                 11.0   \n",
       "...             ...             ...                  ...   \n",
       "1594            6.2             2.0                 32.0   \n",
       "1595            5.9             2.2                 39.0   \n",
       "1596            6.3             2.3                 29.0   \n",
       "1597            5.9             2.0                 32.0   \n",
       "1598            6.0             3.6                 18.0   \n",
       "\n",
       "      total sulfur dioxide    pH  sulphates  alcohol  quality  \n",
       "0                     34.0  3.51       0.56      9.4        5  \n",
       "1                     67.0  3.20       0.68      9.8        5  \n",
       "2                     54.0  3.26       0.65      9.8        5  \n",
       "3                     60.0  3.16       0.58      9.8        6  \n",
       "4                     34.0  3.51       0.56      9.4        5  \n",
       "...                    ...   ...        ...      ...      ...  \n",
       "1594                  44.0  3.45       0.58     10.5        5  \n",
       "1595                  51.0  3.52       0.76     11.2        6  \n",
       "1596                  40.0  3.42       0.75     11.0        6  \n",
       "1597                  44.0  3.57       0.71     10.2        5  \n",
       "1598                  42.0  3.39       0.66     11.0        6  \n",
       "\n",
       "[1599 rows x 8 columns]"
      ]
     },
     "execution_count": 4,
     "metadata": {},
     "output_type": "execute_result"
    }
   ],
   "source": [
    "df"
   ]
  },
  {
   "cell_type": "code",
   "execution_count": 5,
   "id": "849d13c5",
   "metadata": {},
   "outputs": [
    {
     "name": "stdout",
     "output_type": "stream",
     "text": [
      "Requirement already satisfied: imperio in c:\\users\\user\\appdata\\local\\packages\\pythonsoftwarefoundation.python.3.10_qbz5n2kfra8p0\\localcache\\local-packages\\python310\\site-packages (0.1.3)\n",
      "Requirement already satisfied: numpy in c:\\users\\user\\appdata\\local\\packages\\pythonsoftwarefoundation.python.3.10_qbz5n2kfra8p0\\localcache\\local-packages\\python310\\site-packages (from imperio) (1.23.1)\n",
      "Requirement already satisfied: pandas in c:\\users\\user\\appdata\\local\\packages\\pythonsoftwarefoundation.python.3.10_qbz5n2kfra8p0\\localcache\\local-packages\\python310\\site-packages (from imperio) (1.4.3)\n",
      "Requirement already satisfied: scikit-learn in c:\\users\\user\\appdata\\local\\packages\\pythonsoftwarefoundation.python.3.10_qbz5n2kfra8p0\\localcache\\local-packages\\python310\\site-packages (from imperio) (1.1.1)\n",
      "Requirement already satisfied: pytz>=2020.1 in c:\\users\\user\\appdata\\local\\packages\\pythonsoftwarefoundation.python.3.10_qbz5n2kfra8p0\\localcache\\local-packages\\python310\\site-packages (from pandas->imperio) (2022.1)\n",
      "Requirement already satisfied: python-dateutil>=2.8.1 in c:\\users\\user\\appdata\\local\\packages\\pythonsoftwarefoundation.python.3.10_qbz5n2kfra8p0\\localcache\\local-packages\\python310\\site-packages (from pandas->imperio) (2.8.2)\n",
      "Requirement already satisfied: joblib>=1.0.0 in c:\\users\\user\\appdata\\local\\packages\\pythonsoftwarefoundation.python.3.10_qbz5n2kfra8p0\\localcache\\local-packages\\python310\\site-packages (from scikit-learn->imperio) (1.1.0)\n",
      "Requirement already satisfied: threadpoolctl>=2.0.0 in c:\\users\\user\\appdata\\local\\packages\\pythonsoftwarefoundation.python.3.10_qbz5n2kfra8p0\\localcache\\local-packages\\python310\\site-packages (from scikit-learn->imperio) (3.1.0)\n",
      "Requirement already satisfied: scipy>=1.3.2 in c:\\users\\user\\appdata\\local\\packages\\pythonsoftwarefoundation.python.3.10_qbz5n2kfra8p0\\localcache\\local-packages\\python310\\site-packages (from scikit-learn->imperio) (1.8.1)\n",
      "Requirement already satisfied: six>=1.5 in c:\\users\\user\\appdata\\local\\packages\\pythonsoftwarefoundation.python.3.10_qbz5n2kfra8p0\\localcache\\local-packages\\python310\\site-packages (from python-dateutil>=2.8.1->pandas->imperio) (1.16.0)\n"
     ]
    }
   ],
   "source": [
    "!pip install imperio"
   ]
  },
  {
   "cell_type": "code",
   "execution_count": 6,
   "id": "35fc40d8",
   "metadata": {},
   "outputs": [],
   "source": [
    "from imperio import TargetImputationTransformer\n",
    "from sklearn.preprocessing import OrdinalEncoder"
   ]
  },
  {
   "cell_type": "code",
   "execution_count": 15,
   "id": "9edd90c8",
   "metadata": {},
   "outputs": [],
   "source": [
    "tit = TargetImputationTransformer(index=[6])"
   ]
  },
  {
   "cell_type": "code",
   "execution_count": 16,
   "id": "cba17ecf",
   "metadata": {},
   "outputs": [],
   "source": [
    "X = df.drop([\"quality\"], axis=1).values\n",
    "y = df[\"quality\"].values"
   ]
  },
  {
   "cell_type": "code",
   "execution_count": 17,
   "id": "2123a733",
   "metadata": {},
   "outputs": [],
   "source": [
    "from sklearn.model_selection import train_test_split"
   ]
  },
  {
   "cell_type": "code",
   "execution_count": 18,
   "id": "7fc46d70",
   "metadata": {},
   "outputs": [],
   "source": [
    "X_train, X_test, y_train, y_test = train_test_split(X, y, random_state=42)"
   ]
  },
  {
   "cell_type": "code",
   "execution_count": 19,
   "id": "32c9394a",
   "metadata": {},
   "outputs": [],
   "source": [
    "ordinal_encoder = OrdinalEncoder(handle_unknown=\"use_encoded_value\", unknown_value=-1)\n",
    "X_6 = ordinal_encoder.fit_transform(X_train[:, 6].reshape(-1, 1))\n",
    "X_test_6 = ordinal_encoder.transform(X_test[:, 6].reshape(-1, 1))"
   ]
  },
  {
   "cell_type": "code",
   "execution_count": 20,
   "id": "350a9524",
   "metadata": {},
   "outputs": [
    {
     "data": {
      "text/plain": [
       "array([ 5.,  4., 35., ..., 10., 39., 55.])"
      ]
     },
     "execution_count": 20,
     "metadata": {},
     "output_type": "execute_result"
    }
   ],
   "source": [
    "X_6.reshape(1,-1)[0]"
   ]
  },
  {
   "cell_type": "code",
   "execution_count": 37,
   "id": "cac72ca6",
   "metadata": {},
   "outputs": [],
   "source": [
    "X_train[:, 6] = X_6.reshape(1,-1)[0]\n",
    "X_test[:, 6] = X_test_6.reshape(1,-1)[0]"
   ]
  },
  {
   "cell_type": "code",
   "execution_count": 38,
   "id": "b6707e3a",
   "metadata": {},
   "outputs": [],
   "source": [
    "X_train_tr = tit.fit_transform(X_train, y_train)\n",
    "X_test_tr = tit.transform(X_test)"
   ]
  },
  {
   "cell_type": "code",
   "execution_count": 39,
   "id": "c03b1033",
   "metadata": {},
   "outputs": [
    {
     "data": {
      "text/plain": [
       "array([[11.7       ,  2.2       ,  5.        , ...,  3.19      ,\n",
       "         0.43      ,  5.22641509],\n",
       "       [ 8.8       ,  2.2       ,  5.        , ...,  3.36      ,\n",
       "         0.49      ,  5.15789474],\n",
       "       [ 7.1       ,  2.1       ,  9.        , ...,  3.42      ,\n",
       "         0.55      ,  6.        ],\n",
       "       ...,\n",
       "       [ 7.2       ,  2.7       , 15.        , ...,  3.51      ,\n",
       "         0.54      ,  5.33018868],\n",
       "       [ 7.9       ,  1.7       ,  7.        , ...,  3.32      ,\n",
       "         0.8       ,  6.14285714],\n",
       "       [ 5.8       ,  1.7       ,  3.        , ...,  3.39      ,\n",
       "         0.54      ,  6.        ]])"
      ]
     },
     "execution_count": 39,
     "metadata": {},
     "output_type": "execute_result"
    }
   ],
   "source": [
    "X_train_tr"
   ]
  },
  {
   "cell_type": "code",
   "execution_count": 40,
   "id": "1a8d4580",
   "metadata": {},
   "outputs": [],
   "source": [
    "from sklearn.linear_model import LinearRegression\n",
    "from sklearn.neighbors import KNeighborsRegressor\n",
    "from sklearn.tree import DecisionTreeRegressor"
   ]
  },
  {
   "cell_type": "code",
   "execution_count": 41,
   "id": "93218807",
   "metadata": {},
   "outputs": [],
   "source": [
    "from sklearn.metrics import mean_squared_error"
   ]
  },
  {
   "cell_type": "code",
   "execution_count": 42,
   "id": "30951acc",
   "metadata": {},
   "outputs": [],
   "source": [
    "from sklearn.preprocessing import StandardScaler"
   ]
  },
  {
   "cell_type": "code",
   "execution_count": 43,
   "id": "17afc819",
   "metadata": {},
   "outputs": [],
   "source": [
    "scaler = StandardScaler()\n"
   ]
  },
  {
   "cell_type": "code",
   "execution_count": 44,
   "id": "b74fa583",
   "metadata": {},
   "outputs": [],
   "source": [
    "model_list = [\n",
    "    LinearRegression(),\n",
    "    KNeighborsRegressor(),\n",
    "    DecisionTreeRegressor()\n",
    "]"
   ]
  },
  {
   "cell_type": "code",
   "execution_count": 45,
   "id": "064555d7",
   "metadata": {},
   "outputs": [
    {
     "name": "stdout",
     "output_type": "stream",
     "text": [
      "<class 'sklearn.linear_model._base.LinearRegression'>\n",
      "8.611581982047006e-13\n",
      "<class 'sklearn.neighbors._regression.KNeighborsRegressor'>\n",
      "6.065999999999999e-13\n",
      "<class 'sklearn.tree._classes.DecisionTreeRegressor'>\n",
      "7.724999999999999e-13\n"
     ]
    }
   ],
   "source": [
    "for model in model_list:\n",
    "    model.fit(X_train_tr, y_train/1000000)\n",
    "    y_pred = model.predict(X_test_tr)\n",
    "    print(model.__class__)\n",
    "    print(mean_squared_error(y_pred, y_test/1000000))"
   ]
  },
  {
   "cell_type": "code",
   "execution_count": 46,
   "id": "c0cbe688",
   "metadata": {},
   "outputs": [
    {
     "data": {
      "text/plain": [
       "0       5\n",
       "1       5\n",
       "2       5\n",
       "3       6\n",
       "4       5\n",
       "       ..\n",
       "1594    5\n",
       "1595    6\n",
       "1596    6\n",
       "1597    5\n",
       "1598    6\n",
       "Name: quality, Length: 1599, dtype: int64"
      ]
     },
     "execution_count": 46,
     "metadata": {},
     "output_type": "execute_result"
    }
   ],
   "source": [
    "df['quality']"
   ]
  },
  {
   "cell_type": "code",
   "execution_count": 47,
   "id": "ab188f5e",
   "metadata": {},
   "outputs": [
    {
     "data": {
      "text/plain": [
       "array([6, 5, 6, 5, 6, 5, 5, 5, 5, 6, 7, 3, 5, 5, 6, 7, 5, 7, 8, 5, 5, 6,\n",
       "       5, 6, 6, 6, 7, 6, 5, 6, 5, 5, 6, 5, 6, 5, 7, 5, 4, 6, 5, 5, 7, 5,\n",
       "       5, 6, 7, 6, 5, 6, 5, 5, 5, 7, 6, 6, 6, 5, 5, 5, 5, 7, 5, 6, 6, 5,\n",
       "       6, 5, 6, 5, 6, 4, 6, 6, 6, 5, 8, 5, 6, 6, 5, 6, 5, 6, 6, 7, 5, 6,\n",
       "       7, 4, 7, 6, 5, 5, 5, 6, 5, 6, 5, 6, 5, 5, 5, 7, 6, 7, 6, 5, 6, 5,\n",
       "       8, 5, 6, 5, 6, 7, 6, 6, 5, 6, 6, 6, 6, 6, 6, 6, 7, 6, 5, 5, 6, 5,\n",
       "       5, 5, 6, 5, 5, 5, 5, 6, 7, 6, 8, 5, 5, 5, 6, 6, 6, 5, 6, 7, 6, 5,\n",
       "       6, 5, 5, 6, 6, 6, 7, 5, 7, 5, 5, 5, 6, 6, 5, 5, 6, 5, 7, 6, 7, 6,\n",
       "       6, 5, 5, 6, 4, 6, 5, 7, 5, 5, 4, 5, 7, 6, 5, 6, 6, 7, 6, 5, 5, 6,\n",
       "       5, 7, 5, 6, 6, 5, 7, 5, 5, 5, 6, 7, 7, 5, 5, 6, 6, 7, 6, 5, 6, 6,\n",
       "       6, 6, 6, 7, 4, 5, 5, 7, 5, 5, 5, 5, 6, 6, 5, 7, 5, 6, 6, 6, 5, 4,\n",
       "       6, 7, 6, 7, 5, 6, 6, 5, 5, 6, 5, 6, 4, 5, 6, 6, 5, 6, 6, 5, 5, 6,\n",
       "       7, 7, 6, 5, 6, 6, 5, 6, 5, 6, 5, 5, 5, 6, 6, 6, 7, 5, 5, 6, 5, 7,\n",
       "       5, 6, 4, 6, 6, 8, 6, 5, 5, 6, 5, 7, 6, 6, 5, 5, 7, 6, 6, 5, 6, 6,\n",
       "       5, 7, 6, 6, 6, 6, 5, 6, 5, 5, 6, 4, 6, 6, 6, 5, 5, 5, 6, 6, 6, 6,\n",
       "       4, 7, 6, 6, 6, 5, 6, 7, 5, 5, 6, 7, 5, 5, 6, 5, 6, 5, 6, 5, 5, 6,\n",
       "       5, 6, 6, 6, 5, 6, 4, 5, 4, 5, 5, 6, 5, 6, 6, 5, 5, 5, 5, 5, 6, 5,\n",
       "       6, 6, 6, 5, 5, 6, 5, 5, 6, 6, 6, 7, 6, 5, 5, 6, 6, 5, 5, 6, 7, 6,\n",
       "       5, 6, 5, 7], dtype=int64)"
      ]
     },
     "execution_count": 47,
     "metadata": {},
     "output_type": "execute_result"
    }
   ],
   "source": [
    "y_test"
   ]
  },
  {
   "cell_type": "code",
   "execution_count": 48,
   "id": "df728ff4",
   "metadata": {},
   "outputs": [
    {
     "data": {
      "text/plain": [
       "array([5.e-06, 5.e-06, 6.e-06, 6.e-06, 6.e-06, 5.e-06, 5.e-06, 5.e-06,\n",
       "       6.e-06, 6.e-06, 7.e-06, 3.e-06, 5.e-06, 5.e-06, 5.e-06, 7.e-06,\n",
       "       5.e-06, 6.e-06, 7.e-06, 5.e-06, 5.e-06, 6.e-06, 6.e-06, 6.e-06,\n",
       "       5.e-06, 6.e-06, 5.e-06, 3.e-06, 5.e-06, 6.e-06, 6.e-06, 5.e-06,\n",
       "       6.e-06, 6.e-06, 6.e-06, 5.e-06, 6.e-06, 6.e-06, 5.e-06, 5.e-06,\n",
       "       7.e-06, 5.e-06, 5.e-06, 5.e-06, 5.e-06, 7.e-06, 7.e-06, 6.e-06,\n",
       "       5.e-06, 5.e-06, 5.e-06, 5.e-06, 6.e-06, 6.e-06, 5.e-06, 5.e-06,\n",
       "       6.e-06, 6.e-06, 5.e-06, 5.e-06, 7.e-06, 6.e-06, 6.e-06, 5.e-06,\n",
       "       6.e-06, 6.e-06, 7.e-06, 6.e-06, 7.e-06, 5.e-06, 6.e-06, 6.e-06,\n",
       "       6.e-06, 7.e-06, 6.e-06, 5.e-06, 6.e-06, 5.e-06, 7.e-06, 6.e-06,\n",
       "       5.e-06, 7.e-06, 5.e-06, 6.e-06, 6.e-06, 6.e-06, 5.e-06, 6.e-06,\n",
       "       5.e-06, 6.e-06, 6.e-06, 4.e-06, 5.e-06, 5.e-06, 4.e-06, 5.e-06,\n",
       "       5.e-06, 5.e-06, 4.e-06, 7.e-06, 5.e-06, 5.e-06, 6.e-06, 7.e-06,\n",
       "       6.e-06, 7.e-06, 6.e-06, 5.e-06, 6.e-06, 5.e-06, 7.e-06, 5.e-06,\n",
       "       7.e-06, 5.e-06, 7.e-06, 6.e-06, 6.e-06, 5.e-06, 5.e-06, 6.e-06,\n",
       "       6.e-06, 6.e-06, 5.e-06, 6.e-06, 6.e-06, 6.e-06, 6.e-06, 7.e-06,\n",
       "       5.e-06, 6.e-06, 6.e-06, 5.e-06, 5.e-06, 6.e-06, 5.e-06, 5.e-06,\n",
       "       6.e-06, 5.e-06, 6.e-06, 6.e-06, 7.e-06, 8.e-06, 7.e-06, 4.e-06,\n",
       "       5.e-06, 5.e-06, 7.e-06, 6.e-06, 5.e-06, 5.e-06, 6.e-06, 6.e-06,\n",
       "       6.e-06, 5.e-06, 6.e-06, 5.e-06, 6.e-06, 6.e-06, 5.e-06, 6.e-06,\n",
       "       7.e-06, 6.e-06, 6.e-06, 5.e-06, 6.e-06, 6.e-06, 6.e-06, 5.e-06,\n",
       "       3.e-06, 5.e-06, 6.e-06, 4.e-06, 7.e-06, 4.e-06, 7.e-06, 6.e-06,\n",
       "       6.e-06, 5.e-06, 5.e-06, 4.e-06, 5.e-06, 6.e-06, 5.e-06, 6.e-06,\n",
       "       4.e-06, 5.e-06, 6.e-06, 6.e-06, 7.e-06, 4.e-06, 6.e-06, 7.e-06,\n",
       "       6.e-06, 6.e-06, 7.e-06, 5.e-06, 4.e-06, 6.e-06, 5.e-06, 7.e-06,\n",
       "       5.e-06, 6.e-06, 5.e-06, 5.e-06, 8.e-06, 5.e-06, 5.e-06, 4.e-06,\n",
       "       3.e-06, 6.e-06, 7.e-06, 5.e-06, 5.e-06, 7.e-06, 6.e-06, 4.e-06,\n",
       "       6.e-06, 5.e-06, 6.e-06, 5.e-06, 5.e-06, 6.e-06, 6.e-06, 5.e-06,\n",
       "       6.e-06, 5.e-06, 4.e-06, 6.e-06, 5.e-06, 6.e-06, 4.e-06, 5.e-06,\n",
       "       7.e-06, 6.e-06, 5.e-06, 7.e-06, 5.e-06, 6.e-06, 6.e-06, 5.e-06,\n",
       "       5.e-06, 6.e-06, 6.e-06, 7.e-06, 5.e-06, 7.e-06, 6.e-06, 6.e-06,\n",
       "       6.e-06, 5.e-06, 5.e-06, 6.e-06, 6.e-06, 6.e-06, 6.e-06, 5.e-06,\n",
       "       6.e-06, 6.e-06, 5.e-06, 6.e-06, 6.e-06, 7.e-06, 5.e-06, 6.e-06,\n",
       "       8.e-06, 5.e-06, 5.e-06, 5.e-06, 6.e-06, 6.e-06, 5.e-06, 7.e-06,\n",
       "       5.e-06, 6.e-06, 5.e-06, 5.e-06, 6.e-06, 6.e-06, 5.e-06, 6.e-06,\n",
       "       7.e-06, 5.e-06, 5.e-06, 6.e-06, 5.e-06, 7.e-06, 5.e-06, 8.e-06,\n",
       "       5.e-06, 6.e-06, 5.e-06, 3.e-06, 8.e-06, 6.e-06, 5.e-06, 6.e-06,\n",
       "       5.e-06, 7.e-06, 6.e-06, 6.e-06, 5.e-06, 5.e-06, 7.e-06, 3.e-06,\n",
       "       6.e-06, 5.e-06, 7.e-06, 6.e-06, 3.e-06, 7.e-06, 4.e-06, 6.e-06,\n",
       "       6.e-06, 5.e-06, 6.e-06, 6.e-06, 5.e-06, 5.e-06, 5.e-06, 6.e-06,\n",
       "       6.e-06, 6.e-06, 6.e-06, 5.e-06, 5.e-06, 5.e-06, 6.e-06, 5.e-06,\n",
       "       5.e-06, 6.e-06, 6.e-06, 7.e-06, 5.e-06, 6.e-06, 6.e-06, 5.e-06,\n",
       "       7.e-06, 6.e-06, 5.e-06, 5.e-06, 6.e-06, 6.e-06, 5.e-06, 6.e-06,\n",
       "       6.e-06, 5.e-06, 6.e-06, 5.e-06, 6.e-06, 6.e-06, 5.e-06, 6.e-06,\n",
       "       5.e-06, 6.e-06, 6.e-06, 6.e-06, 6.e-06, 5.e-06, 5.e-06, 5.e-06,\n",
       "       6.e-06, 6.e-06, 4.e-06, 6.e-06, 5.e-06, 6.e-06, 6.e-06, 5.e-06,\n",
       "       5.e-06, 5.e-06, 5.e-06, 4.e-06, 8.e-06, 4.e-06, 5.e-06, 5.e-06,\n",
       "       6.e-06, 6.e-06, 5.e-06, 6.e-06, 6.e-06, 5.e-06, 6.e-06, 5.e-06,\n",
       "       5.e-06, 7.e-06, 7.e-06, 5.e-06, 5.e-06, 7.e-06, 5.e-06, 5.e-06,\n",
       "       5.e-06, 5.e-06, 6.e-06, 6.e-06, 5.e-06, 6.e-06, 5.e-06, 5.e-06])"
      ]
     },
     "execution_count": 48,
     "metadata": {},
     "output_type": "execute_result"
    }
   ],
   "source": [
    "y_pred"
   ]
  },
  {
   "cell_type": "code",
   "execution_count": 49,
   "id": "64d6cf40",
   "metadata": {},
   "outputs": [
    {
     "data": {
      "text/plain": [
       "array([[11.7       ,  2.2       ,  5.        , ...,  3.19      ,\n",
       "         0.43      ,  5.22641509],\n",
       "       [ 8.8       ,  2.2       ,  5.        , ...,  3.36      ,\n",
       "         0.49      ,  5.15789474],\n",
       "       [ 7.1       ,  2.1       ,  9.        , ...,  3.42      ,\n",
       "         0.55      ,  6.        ],\n",
       "       ...,\n",
       "       [ 7.2       ,  2.7       , 15.        , ...,  3.51      ,\n",
       "         0.54      ,  5.33018868],\n",
       "       [ 7.9       ,  1.7       ,  7.        , ...,  3.32      ,\n",
       "         0.8       ,  6.14285714],\n",
       "       [ 5.8       ,  1.7       ,  3.        , ...,  3.39      ,\n",
       "         0.54      ,  6.        ]])"
      ]
     },
     "execution_count": 49,
     "metadata": {},
     "output_type": "execute_result"
    }
   ],
   "source": [
    "X_train_tr"
   ]
  },
  {
   "cell_type": "code",
   "execution_count": 50,
   "id": "65d4fd3d",
   "metadata": {},
   "outputs": [
    {
     "data": {
      "text/plain": [
       "<AxesSubplot:>"
      ]
     },
     "execution_count": 50,
     "metadata": {},
     "output_type": "execute_result"
    },
    {
     "data": {
      "image/png": "[encoded data removed]",
      "text/plain": [
       "<Figure size 432x288 with 1 Axes>"
      ]
     },
     "metadata": {
      "needs_background": "light"
     },
     "output_type": "display_data"
    }
   ],
   "source": [
    "df['quality'].hist()"
   ]
  },
  {
   "cell_type": "code",
   "execution_count": null,
   "id": "310182a7",
   "metadata": {},
   "outputs": [],
   "source": []
  }
 ],
 "metadata": {
  "kernelspec": {
   "display_name": "Python 3 (ipykernel)",
   "language": "python",
   "name": "python3"
  },
  "language_info": {
   "codemirror_mode": {
    "name": "ipython",
    "version": 3
   },
   "file_extension": ".py",
   "mimetype": "text/x-python",
   "name": "python",
   "nbconvert_exporter": "python",
   "pygments_lexer": "ipython3",
   "version": "3.10.7"
  }
 },
 "nbformat": 4,
 "nbformat_minor": 5
}
